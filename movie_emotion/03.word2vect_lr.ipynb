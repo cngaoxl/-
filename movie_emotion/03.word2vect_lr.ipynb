{
 "cells": [
  {
   "cell_type": "code",
   "execution_count": 34,
   "metadata": {
    "ExecuteTime": {
     "end_time": "2019-09-04T14:53:56.303039Z",
     "start_time": "2019-09-04T14:53:56.289038Z"
    }
   },
   "outputs": [],
   "source": [
    "import pandas as pd\n",
    "import jieba\n",
    "from gensim.models.word2vec import LineSentence, Word2Vec\n",
    "from scipy.linalg import norm\n",
    "import gensim\n",
    "import numpy as np\n",
    "from sklearn.linear_model import LogisticRegression\n",
    "from sklearn.cross_validation import train_test_split\n",
    "import warnings\n",
    "warnings.filterwarnings('ignore')\n",
    "\n",
    "INFILE = './data/train_data.csv'\n",
    "TRAIN_DATA_WORD = './data/word2vect/train_data_word.txt'\n",
    "MODELFILE = './data/word2vect/movie_word2vect_model.bin'\n",
    "STOPWORD_FILE = './data/stopwords.txt'\n",
    "class WORD2VECT_LR():\n",
    "    def __init__(self, infile, infile_encoding, mfile, swfile, swfile_encoding, dimension):\n",
    "        #输入文件\n",
    "        self.infile = infile\n",
    "        #输入文件编码\n",
    "        self.infile_encoding = infile_encoding\n",
    "        #word2vect model文件\n",
    "        self.mfile = mfile\n",
    "        #停顿词文件\n",
    "        self.swfile = swfile\n",
    "        #停顿词文件编码\n",
    "        self.swfile_encoding = swfile_encoding\n",
    "        \n",
    "        #vect的维度\n",
    "        self.dimension = dimension\n",
    "        \n",
    "        #停顿词列表\n",
    "        self.stopwords = []\n",
    "        \n",
    "        self.word2vect = None\n",
    "        \n",
    "        self.vect_list = []\n",
    "    def jieba_tokenizer(self,x):\n",
    "        words =  jieba.cut(x, cut_all=False)\n",
    "        return \" \".join(words)\n",
    "\n",
    "    def get_stop_words(self):\n",
    "        stopwords=[]\n",
    "        with open(self.swfile,'r',encoding=self.infile_encoding) as fp:\n",
    "            for line in fp.readlines():\n",
    "                stopwords.append(line.strip())\n",
    "            return stopwords\n",
    "    \n",
    "    def content2vect(self):\n",
    "        '''\n",
    "        输入文件转换成vect\n",
    "        1）输入文件先切换成空格分割的词文件\n",
    "        2）空格分割的句子文件转换成vect\n",
    "        '''\n",
    "        space = ' '\n",
    "        if self.swfile:\n",
    "            self.stopwords = get_stop_words(self.swfile, self.swfile_encoding)\n",
    "        \n",
    "        #1）输入文件先切换成空格分割的词文件\n",
    "        f_word = open(TRAIN_DATA_WORD, 'w', encoding='utf-8')\n",
    "        with open(self.infile, 'r', encoding=self.infile_encoding) as f:\n",
    "            for line in f:\n",
    "                line = line.split(',')\n",
    "                words_list = [x for x in jieba.cut(line[1], cut_all=False) if x not in self.stopwords]\n",
    "                f_word.write(space.join(words_list))\n",
    "        f_word.close()\n",
    "        \n",
    "        #2）空格分割的句子文件转换成vect\n",
    "        f_word = open(TRAIN_DATA_WORD, 'r', encoding='utf-8')\n",
    "        model = Word2Vec(LineSentence(f_word), sg=0, size=self.dimension, window=5, min_count=5, workers=9)\n",
    "        model.wv.save_word2vec_format(self.mfile, binary=True)\n",
    "        f_word.close()\n",
    "            \n",
    "\n",
    "    def load_model(self):\n",
    "        self.word2vect = gensim.models.KeyedVectors.load_word2vec_format(self.mfile, binary=True)\n",
    "\n",
    "    def sentence_vector(self, s):\n",
    "            words = [x for x in jieba.cut(s, cut_all=False) if x not in self.stopwords]\n",
    "            v = np.zeros(self.dimension)\n",
    "            cnt = 0\n",
    "            for word in words:\n",
    "                if word not in self.word2vect.wv.vocab:\n",
    "                    continue\n",
    "                else:\n",
    "                    v += self.word2vect[word]\n",
    "\n",
    "            v /= len(words)\n",
    "            self.vect_list.append(v)\n",
    "            \n",
    "    def train(self):\n",
    "        model = self.load_model()\n",
    "        df = pd.DataFrame()\n",
    "        df = pd.read_csv(INFILE, encoding=\"utf-8\")\n",
    "        df['comment'].apply(self.sentence_vector)\n",
    "        X = np.array(self.vect_list)\n",
    "    \n",
    "        y = df['label']\n",
    "\n",
    "        X_train, X_test, y_train, y_test  = train_test_split(X, y,test_size=0.1)\n",
    "\n",
    "        lr = LogisticRegression()\n",
    "        lr = lr.fit(X_train, y_train)\n",
    "        \n",
    "        y_pred = lr.predict(X_test)\n",
    "        print('Test set accuracy: %3f' % lr.score(X_test, y_test))\n",
    "        return lr"
   ]
  },
  {
   "cell_type": "code",
   "execution_count": 35,
   "metadata": {
    "ExecuteTime": {
     "end_time": "2019-09-04T14:54:13.936048Z",
     "start_time": "2019-09-04T14:53:58.776181Z"
    },
    "scrolled": false
   },
   "outputs": [
    {
     "name": "stdout",
     "output_type": "stream",
     "text": [
      "Test set accuracy: 0.687543\n"
     ]
    }
   ],
   "source": [
    "if __name__ == '__main__':\n",
    "    model  = WORD2VECT_LR(INFILE, \"utf_8\", MODELFILE,STOPWORD_FILE , \"utf-8\", 128)\n",
    "    #model.content2vect()\n",
    "    model = model.train()\n",
    "    "
   ]
  }
 ],
 "metadata": {
  "kernelspec": {
   "display_name": "Python 3",
   "language": "python",
   "name": "python3"
  },
  "language_info": {
   "codemirror_mode": {
    "name": "ipython",
    "version": 3
   },
   "file_extension": ".py",
   "mimetype": "text/x-python",
   "name": "python",
   "nbconvert_exporter": "python",
   "pygments_lexer": "ipython3",
   "version": "3.6.2"
  },
  "toc": {
   "base_numbering": 1,
   "nav_menu": {},
   "number_sections": true,
   "sideBar": true,
   "skip_h1_title": false,
   "title_cell": "Table of Contents",
   "title_sidebar": "Contents",
   "toc_cell": false,
   "toc_position": {},
   "toc_section_display": true,
   "toc_window_display": false
  }
 },
 "nbformat": 4,
 "nbformat_minor": 2
}
